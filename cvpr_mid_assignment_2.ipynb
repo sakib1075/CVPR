{
 "cells": [
  {
   "cell_type": "code",
   "execution_count": 1,
   "id": "c7c82bbf-9bad-4a99-9993-42599c16ca12",
   "metadata": {},
   "outputs": [],
   "source": [
    "import numpy as np\n",
    "import matplotlib.pyplot as plt\n",
    "from sklearn.datasets import make_classification\n",
    "from sklearn.model_selection import train_test_split\n",
    "from sklearn.preprocessing import OneHotEncoder\n",
    "from sklearn.metrics import accuracy_score, classification_report, confusion_matrix\n",
    "import seaborn as sns\n"
   ]
  },
  {
   "cell_type": "code",
   "execution_count": 2,
   "id": "ae7e55fd-58a1-4a9d-95a7-0e5c6da5326f",
   "metadata": {},
   "outputs": [
    {
     "name": "stderr",
     "output_type": "stream",
     "text": [
      "c:\\Anaconda\\envs\\my-new-env\\lib\\site-packages\\sklearn\\preprocessing\\_encoders.py:972: FutureWarning: `sparse` was renamed to `sparse_output` in version 1.2 and will be removed in 1.4. `sparse_output` is ignored unless you leave `sparse` to its default value.\n",
      "  warnings.warn(\n"
     ]
    }
   ],
   "source": [
    "# Generate a synthetic dataset with 1000 samples, 10 features, and 5 classes\n",
    "X, y = make_classification(n_samples=1000, n_features=10, n_informative=8, n_classes=5, n_clusters_per_class=1, random_state=42)\n",
    "\n",
    "# One-hot encode the labels for multi-class classification\n",
    "encoder = OneHotEncoder(sparse=False)\n",
    "Y = encoder.fit_transform(y.reshape(-1, 1))\n",
    "\n",
    "# Split into training and testing sets\n",
    "X_train, X_test, Y_train, Y_test = train_test_split(X, Y, test_size=0.2, random_state=42)\n"
   ]
  },
  {
   "cell_type": "code",
   "execution_count": 3,
   "id": "8889d705-b140-4319-ac47-ccbd1c30b324",
   "metadata": {},
   "outputs": [],
   "source": [
    "class NeuralNetwork(object):\n",
    "    def __init__(self):\n",
    "        inputLayerNeurons = 10  # Number of input features\n",
    "        hiddenLayer1Neurons = 64\n",
    "        hiddenLayer2Neurons = 32\n",
    "        hiddenLayer3Neurons = 16\n",
    "        outputLayerNeurons = 5  # Five classes\n",
    "\n",
    "        self.learning_rate = 0.01\n",
    "\n",
    "        # Weight initialization for three hidden layers and output layer\n",
    "        self.W_H1 = np.random.randn(inputLayerNeurons, hiddenLayer1Neurons)\n",
    "        self.W_H2 = np.random.randn(hiddenLayer1Neurons, hiddenLayer2Neurons)\n",
    "        self.W_H3 = np.random.randn(hiddenLayer2Neurons, hiddenLayer3Neurons)\n",
    "        self.W_O = np.random.randn(hiddenLayer3Neurons, outputLayerNeurons)\n",
    "\n",
    "    def sigmoid(self, x, der=False):\n",
    "        if der:\n",
    "            return x * (1 - x)\n",
    "        return 1 / (1 + np.exp(-x))\n",
    "\n",
    "    def softmax(self, x):\n",
    "        exp_x = np.exp(x - np.max(x, axis=1, keepdims=True))\n",
    "        return exp_x / np.sum(exp_x, axis=1, keepdims=True)\n",
    "\n",
    "    def feedForward(self, X):\n",
    "        self.z1 = np.dot(X, self.W_H1)\n",
    "        self.a1 = self.sigmoid(self.z1)\n",
    "\n",
    "        self.z2 = np.dot(self.a1, self.W_H2)\n",
    "        self.a2 = self.sigmoid(self.z2)\n",
    "\n",
    "        self.z3 = np.dot(self.a2, self.W_H3)\n",
    "        self.a3 = self.sigmoid(self.z3)\n",
    "\n",
    "        self.z4 = np.dot(self.a3, self.W_O)\n",
    "        pred = self.softmax(self.z4)\n",
    "        return pred\n",
    "\n",
    "    def backPropagation(self, X, Y, pred):\n",
    "        output_error = Y - pred\n",
    "        output_delta = output_error  # No derivative for softmax and cross-entropy\n",
    "\n",
    "        hidden_error3 = output_delta.dot(self.W_O.T)\n",
    "        hidden_delta3 = hidden_error3 * self.sigmoid(self.a3, der=True)\n",
    "\n",
    "        hidden_error2 = hidden_delta3.dot(self.W_H3.T)\n",
    "        hidden_delta2 = hidden_error2 * self.sigmoid(self.a2, der=True)\n",
    "\n",
    "        hidden_error1 = hidden_delta2.dot(self.W_H2.T)\n",
    "        hidden_delta1 = hidden_error1 * self.sigmoid(self.a1, der=True)\n",
    "\n",
    "        # Updating the weights\n",
    "        self.W_O += self.a3.T.dot(output_delta) * self.learning_rate\n",
    "        self.W_H3 += self.a2.T.dot(hidden_delta3) * self.learning_rate\n",
    "        self.W_H2 += self.a1.T.dot(hidden_delta2) * self.learning_rate\n",
    "        self.W_H1 += X.T.dot(hidden_delta1) * self.learning_rate\n",
    "\n",
    "    def train(self, X, Y):\n",
    "        output = self.feedForward(X)\n",
    "        self.backPropagation(X, Y, output)\n",
    "        \n",
    "    def predict(self, X):\n",
    "        pred = self.feedForward(X)\n",
    "        return np.argmax(pred, axis=1)  # Returning the index of the highest probability class\n"
   ]
  },
  {
   "cell_type": "code",
   "execution_count": 4,
   "id": "ca5c08b3",
   "metadata": {},
   "outputs": [
    {
     "name": "stdout",
     "output_type": "stream",
     "text": [
      "Epoch 0: Train accuracy = 0.20875\n",
      "Epoch 10: Train accuracy = 0.20125\n",
      "Epoch 20: Train accuracy = 0.34625\n",
      "Epoch 30: Train accuracy = 0.37125\n",
      "Epoch 40: Train accuracy = 0.34875\n",
      "Epoch 50: Train accuracy = 0.32875\n",
      "Epoch 60: Train accuracy = 0.3425\n",
      "Epoch 70: Train accuracy = 0.39\n",
      "Epoch 80: Train accuracy = 0.4125\n",
      "Epoch 90: Train accuracy = 0.4425\n",
      "Epoch 100: Train accuracy = 0.6225\n",
      "Epoch 110: Train accuracy = 0.57875\n",
      "Epoch 120: Train accuracy = 0.55625\n",
      "Epoch 130: Train accuracy = 0.6725\n",
      "Epoch 140: Train accuracy = 0.7925\n",
      "Epoch 150: Train accuracy = 0.83375\n",
      "Epoch 160: Train accuracy = 0.88125\n",
      "Epoch 170: Train accuracy = 0.9125\n",
      "Epoch 180: Train accuracy = 0.92875\n",
      "Epoch 190: Train accuracy = 0.94375\n",
      "Epoch 200: Train accuracy = 0.94875\n",
      "Epoch 210: Train accuracy = 0.52375\n",
      "Epoch 220: Train accuracy = 0.945\n",
      "Epoch 230: Train accuracy = 0.96\n",
      "Epoch 240: Train accuracy = 0.97125\n",
      "Epoch 250: Train accuracy = 0.9775\n",
      "Epoch 260: Train accuracy = 0.9825\n",
      "Epoch 270: Train accuracy = 0.985\n",
      "Epoch 280: Train accuracy = 0.985\n",
      "Epoch 290: Train accuracy = 0.98625\n",
      "Epoch 300: Train accuracy = 0.9875\n",
      "Epoch 310: Train accuracy = 0.9875\n",
      "Epoch 320: Train accuracy = 0.9875\n",
      "Epoch 330: Train accuracy = 0.9875\n",
      "Epoch 340: Train accuracy = 0.9875\n",
      "Epoch 350: Train accuracy = 0.98875\n",
      "Epoch 360: Train accuracy = 0.98875\n",
      "Epoch 370: Train accuracy = 0.98875\n",
      "Epoch 380: Train accuracy = 0.98875\n",
      "Epoch 390: Train accuracy = 0.98875\n",
      "Epoch 400: Train accuracy = 0.99\n",
      "Epoch 410: Train accuracy = 0.99\n",
      "Epoch 420: Train accuracy = 0.99\n",
      "Epoch 430: Train accuracy = 0.9875\n",
      "Epoch 440: Train accuracy = 0.98875\n",
      "Epoch 450: Train accuracy = 0.99\n",
      "Epoch 460: Train accuracy = 0.99125\n",
      "Epoch 470: Train accuracy = 0.9925\n",
      "Epoch 480: Train accuracy = 0.995\n",
      "Epoch 490: Train accuracy = 0.99625\n"
     ]
    }
   ],
   "source": [
    "NN = NeuralNetwork()\n",
    "\n",
    "# Train the neural network\n",
    "epochs = 500\n",
    "for epoch in range(epochs):\n",
    "    NN.train(X_train, Y_train)\n",
    "    if epoch % 10 == 0:\n",
    "        train_pred = NN.predict(X_train)\n",
    "        train_true = np.argmax(Y_train, axis=1)\n",
    "        print(f\"Epoch {epoch}: Train accuracy = {accuracy_score(train_true, train_pred)}\")\n"
   ]
  },
  {
   "cell_type": "code",
   "execution_count": 5,
   "id": "6b777517",
   "metadata": {},
   "outputs": [
    {
     "name": "stdout",
     "output_type": "stream",
     "text": [
      "Test Accuracy: 0.875\n",
      "\n",
      "Classification Report:\n",
      "               precision    recall  f1-score   support\n",
      "\n",
      "           0       0.90      0.88      0.89        42\n",
      "           1       0.85      0.88      0.87        33\n",
      "           2       0.91      0.80      0.85        40\n",
      "           3       0.81      0.83      0.82        41\n",
      "           4       0.90      0.98      0.93        44\n",
      "\n",
      "    accuracy                           0.88       200\n",
      "   macro avg       0.88      0.87      0.87       200\n",
      "weighted avg       0.88      0.88      0.87       200\n",
      "\n"
     ]
    }
   ],
   "source": [
    "# Evaluate on the test set\n",
    "test_pred = NN.predict(X_test)\n",
    "test_true = np.argmax(Y_test, axis=1)\n",
    "\n",
    "print(\"Test Accuracy:\", accuracy_score(test_true, test_pred))\n",
    "print(\"\\nClassification Report:\\n\", classification_report(test_true, test_pred))\n"
   ]
  },
  {
   "cell_type": "code",
   "execution_count": 6,
   "id": "a461450e",
   "metadata": {},
   "outputs": [
    {
     "data": {
      "image/png": "[encoded data removed]",
      "text/plain": [
       "<Figure size 800x600 with 2 Axes>"
      ]
     },
     "metadata": {},
     "output_type": "display_data"
    }
   ],
   "source": [
    "# Confusion matrix\n",
    "conf_matrix = confusion_matrix(test_true, test_pred)\n",
    "plt.figure(figsize=(8, 6))\n",
    "sns.heatmap(conf_matrix, annot=True, cmap=\"Blues\", fmt='g')\n",
    "plt.title(\"Confusion Matrix\")\n",
    "plt.ylabel('True labels')\n",
    "plt.xlabel('Predicted labels')\n",
    "plt.show()\n"
   ]
  }
 ],
 "metadata": {
  "kernelspec": {
   "display_name": "Python 3",
   "language": "python",
   "name": "python3"
  },
  "language_info": {
   "codemirror_mode": {
    "name": "ipython",
    "version": 3
   },
   "file_extension": ".py",
   "mimetype": "text/x-python",
   "name": "python",
   "nbconvert_exporter": "python",
   "pygments_lexer": "ipython3",
   "version": "3.8.19"
  }
 },
 "nbformat": 4,
 "nbformat_minor": 5
}
